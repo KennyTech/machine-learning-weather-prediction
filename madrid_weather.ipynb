{
  "nbformat": 4,
  "nbformat_minor": 0,
  "metadata": {
    "colab": {
      "name": "ML-models-weather-prediction.ipynb",
      "provenance": [],
      "collapsed_sections": []
    },
    "kernelspec": {
      "name": "python3",
      "display_name": "Python 3"
    }
  },
  "cells": [
    {
      "cell_type": "markdown",
      "metadata": {
        "id": "6QnWsVP_-flC",
        "colab_type": "text"
      },
      "source": [
        "# Weather Prediction Neural Network Machine Learning Model: \n",
        "\n",
        "[Available on Google Colaboratory](https://colab.research.google.com/drive/1QrcjfdcahcBPU3FuKMhxMGozGRzMTA3H)"
      ]
    },
    {
      "cell_type": "markdown",
      "metadata": {
        "id": "UfCt8EdDKzvQ",
        "colab_type": "text"
      },
      "source": [
        "## About\n",
        "\n",
        "In this project, I work with daily weather data for the city of Madrid from 1997 - 2015 to project future weather events.\n",
        "\n",
        "The objective is to train a neural network that will predict various weather events including:\n",
        "\n",
        "- Rain\n",
        "- Snow\n",
        "- Fog\n",
        "- Thunderstorm\n",
        "- Hail\n",
        "- Tornado"
      ]
    },
    {
      "cell_type": "markdown",
      "metadata": {
        "id": "RmH74W2mMoVk",
        "colab_type": "text"
      },
      "source": [
        "## Submission\n",
        "\n",
        "- Submitted as ipynb executed on Jupyter notebook.\n",
        "- I use tensorflow, matplotlib, and pandas to build and train NN models."
      ]
    },
    {
      "cell_type": "code",
      "metadata": {
        "id": "g21QGZF8sjci",
        "colab_type": "code",
        "outputId": "d2e361cc-0526-413a-a8ce-b38d742f6d52",
        "colab": {
          "base_uri": "https://localhost:8080/",
          "height": 34
        }
      },
      "source": [
        "%tensorflow_version 2.x"
      ],
      "execution_count": 1,
      "outputs": [
        {
          "output_type": "stream",
          "text": [
            "TensorFlow 2.x selected.\n"
          ],
          "name": "stdout"
        }
      ]
    },
    {
      "cell_type": "code",
      "metadata": {
        "id": "Ik1fi5_LtMv4",
        "colab_type": "code",
        "colab": {}
      },
      "source": [
        "import tensorflow as tf\n",
        "import numpy as np\n",
        "import pandas as pd\n",
        "import matplotlib.pyplot as pyplot\n",
        "\n",
        "from tensorflow.keras.models import Sequential\n",
        "from tensorflow.keras.layers import Input, Reshape, Dense, Embedding\n",
        "from tensorflow.keras.losses import binary_crossentropy\n",
        "from tensorflow.keras.optimizers import Adam"
      ],
      "execution_count": 0,
      "outputs": []
    },
    {
      "cell_type": "markdown",
      "metadata": {
        "id": "D7FQDxrP-dA8",
        "colab_type": "text"
      },
      "source": [
        "# Getting the data\n",
        "\n",
        "The data is available at the given URL.  The following code will load the data into a [Pandas DataFrame](https://pandas.pydata.org/pandas-docs/stable/).\n",
        "\n",
        "If you are unfamiliar with DataFrame API, you can easily pick it up from here: https://pandas.pydata.org/pandas-docs/stable/getting_started/10min.html\n",
        "\n",
        "Very minimal knowledge of DataFrame is needed, as most of the code is provided in the notebook already."
      ]
    },
    {
      "cell_type": "code",
      "metadata": {
        "id": "slnlgtt53R2x",
        "colab_type": "code",
        "colab": {}
      },
      "source": [
        "url = 'https://github.com/ontariotechu-csci4050u/course-material-2019/' \\\n",
        "      'raw/master/data/weather_madrid_LEMD_1997_2015.csv.gz'\n",
        "df = pd.read_csv(url).rename(columns={\"CET\": \"date\"}).set_index('date')\n",
        "df.columns = [x.strip() for x in df.columns]"
      ],
      "execution_count": 0,
      "outputs": []
    },
    {
      "cell_type": "markdown",
      "metadata": {
        "id": "_Bkebow__uPA",
        "colab_type": "text"
      },
      "source": [
        "This is what the dataframe `df` looks like.  Note that it has a number of numerical attributes including _temperature_, _pressure_, _visibility_, etc."
      ]
    },
    {
      "cell_type": "code",
      "metadata": {
        "id": "I6sf5P0K3WvP",
        "colab_type": "code",
        "outputId": "88fc0b99-f428-4b16-fb2f-7b523e1a12eb",
        "colab": {
          "base_uri": "https://localhost:8080/",
          "height": 374
        }
      },
      "source": [
        "df.head()"
      ],
      "execution_count": 4,
      "outputs": [
        {
          "output_type": "execute_result",
          "data": {
            "text/html": [
              "<div>\n",
              "<style scoped>\n",
              "    .dataframe tbody tr th:only-of-type {\n",
              "        vertical-align: middle;\n",
              "    }\n",
              "\n",
              "    .dataframe tbody tr th {\n",
              "        vertical-align: top;\n",
              "    }\n",
              "\n",
              "    .dataframe thead th {\n",
              "        text-align: right;\n",
              "    }\n",
              "</style>\n",
              "<table border=\"1\" class=\"dataframe\">\n",
              "  <thead>\n",
              "    <tr style=\"text-align: right;\">\n",
              "      <th></th>\n",
              "      <th>Max TemperatureC</th>\n",
              "      <th>Mean TemperatureC</th>\n",
              "      <th>Min TemperatureC</th>\n",
              "      <th>Dew PointC</th>\n",
              "      <th>MeanDew PointC</th>\n",
              "      <th>Min DewpointC</th>\n",
              "      <th>Max Humidity</th>\n",
              "      <th>Mean Humidity</th>\n",
              "      <th>Min Humidity</th>\n",
              "      <th>Max Sea Level PressurehPa</th>\n",
              "      <th>Mean Sea Level PressurehPa</th>\n",
              "      <th>Min Sea Level PressurehPa</th>\n",
              "      <th>Max VisibilityKm</th>\n",
              "      <th>Mean VisibilityKm</th>\n",
              "      <th>Min VisibilitykM</th>\n",
              "      <th>Max Wind SpeedKm/h</th>\n",
              "      <th>Mean Wind SpeedKm/h</th>\n",
              "      <th>Max Gust SpeedKm/h</th>\n",
              "      <th>Precipitationmm</th>\n",
              "      <th>CloudCover</th>\n",
              "      <th>Events</th>\n",
              "      <th>WindDirDegrees</th>\n",
              "    </tr>\n",
              "    <tr>\n",
              "      <th>date</th>\n",
              "      <th></th>\n",
              "      <th></th>\n",
              "      <th></th>\n",
              "      <th></th>\n",
              "      <th></th>\n",
              "      <th></th>\n",
              "      <th></th>\n",
              "      <th></th>\n",
              "      <th></th>\n",
              "      <th></th>\n",
              "      <th></th>\n",
              "      <th></th>\n",
              "      <th></th>\n",
              "      <th></th>\n",
              "      <th></th>\n",
              "      <th></th>\n",
              "      <th></th>\n",
              "      <th></th>\n",
              "      <th></th>\n",
              "      <th></th>\n",
              "      <th></th>\n",
              "      <th></th>\n",
              "    </tr>\n",
              "  </thead>\n",
              "  <tbody>\n",
              "    <tr>\n",
              "      <th>1997-1-1</th>\n",
              "      <td>7.0</td>\n",
              "      <td>4.0</td>\n",
              "      <td>2.0</td>\n",
              "      <td>5.0</td>\n",
              "      <td>3.0</td>\n",
              "      <td>2.0</td>\n",
              "      <td>100.0</td>\n",
              "      <td>95.0</td>\n",
              "      <td>76.0</td>\n",
              "      <td>1010</td>\n",
              "      <td>1008</td>\n",
              "      <td>1004</td>\n",
              "      <td>10.0</td>\n",
              "      <td>9.0</td>\n",
              "      <td>4.0</td>\n",
              "      <td>13</td>\n",
              "      <td>6</td>\n",
              "      <td>NaN</td>\n",
              "      <td>0.0</td>\n",
              "      <td>6.0</td>\n",
              "      <td>NaN</td>\n",
              "      <td>229</td>\n",
              "    </tr>\n",
              "    <tr>\n",
              "      <th>1997-1-2</th>\n",
              "      <td>7.0</td>\n",
              "      <td>3.0</td>\n",
              "      <td>0.0</td>\n",
              "      <td>6.0</td>\n",
              "      <td>3.0</td>\n",
              "      <td>0.0</td>\n",
              "      <td>100.0</td>\n",
              "      <td>92.0</td>\n",
              "      <td>71.0</td>\n",
              "      <td>1007</td>\n",
              "      <td>1003</td>\n",
              "      <td>997</td>\n",
              "      <td>10.0</td>\n",
              "      <td>9.0</td>\n",
              "      <td>4.0</td>\n",
              "      <td>26</td>\n",
              "      <td>8</td>\n",
              "      <td>47.0</td>\n",
              "      <td>0.0</td>\n",
              "      <td>5.0</td>\n",
              "      <td>Rain</td>\n",
              "      <td>143</td>\n",
              "    </tr>\n",
              "    <tr>\n",
              "      <th>1997-1-3</th>\n",
              "      <td>5.0</td>\n",
              "      <td>3.0</td>\n",
              "      <td>2.0</td>\n",
              "      <td>5.0</td>\n",
              "      <td>1.0</td>\n",
              "      <td>-1.0</td>\n",
              "      <td>100.0</td>\n",
              "      <td>85.0</td>\n",
              "      <td>70.0</td>\n",
              "      <td>1005</td>\n",
              "      <td>999</td>\n",
              "      <td>996</td>\n",
              "      <td>10.0</td>\n",
              "      <td>10.0</td>\n",
              "      <td>7.0</td>\n",
              "      <td>27</td>\n",
              "      <td>19</td>\n",
              "      <td>NaN</td>\n",
              "      <td>0.0</td>\n",
              "      <td>6.0</td>\n",
              "      <td>Rain-Snow</td>\n",
              "      <td>256</td>\n",
              "    </tr>\n",
              "    <tr>\n",
              "      <th>1997-1-4</th>\n",
              "      <td>7.0</td>\n",
              "      <td>3.0</td>\n",
              "      <td>-1.0</td>\n",
              "      <td>-2.0</td>\n",
              "      <td>-3.0</td>\n",
              "      <td>-4.0</td>\n",
              "      <td>86.0</td>\n",
              "      <td>63.0</td>\n",
              "      <td>49.0</td>\n",
              "      <td>1012</td>\n",
              "      <td>1010</td>\n",
              "      <td>1005</td>\n",
              "      <td>10.0</td>\n",
              "      <td>10.0</td>\n",
              "      <td>10.0</td>\n",
              "      <td>27</td>\n",
              "      <td>19</td>\n",
              "      <td>40.0</td>\n",
              "      <td>0.0</td>\n",
              "      <td>2.0</td>\n",
              "      <td>NaN</td>\n",
              "      <td>284</td>\n",
              "    </tr>\n",
              "    <tr>\n",
              "      <th>1997-1-5</th>\n",
              "      <td>2.0</td>\n",
              "      <td>0.0</td>\n",
              "      <td>-1.0</td>\n",
              "      <td>2.0</td>\n",
              "      <td>0.0</td>\n",
              "      <td>-3.0</td>\n",
              "      <td>100.0</td>\n",
              "      <td>95.0</td>\n",
              "      <td>86.0</td>\n",
              "      <td>1012</td>\n",
              "      <td>1008</td>\n",
              "      <td>1005</td>\n",
              "      <td>10.0</td>\n",
              "      <td>5.0</td>\n",
              "      <td>1.0</td>\n",
              "      <td>14</td>\n",
              "      <td>6</td>\n",
              "      <td>NaN</td>\n",
              "      <td>0.0</td>\n",
              "      <td>7.0</td>\n",
              "      <td>Snow</td>\n",
              "      <td>2</td>\n",
              "    </tr>\n",
              "  </tbody>\n",
              "</table>\n",
              "</div>"
            ],
            "text/plain": [
              "          Max TemperatureC  Mean TemperatureC  ...     Events  WindDirDegrees\n",
              "date                                           ...                           \n",
              "1997-1-1               7.0                4.0  ...        NaN             229\n",
              "1997-1-2               7.0                3.0  ...       Rain             143\n",
              "1997-1-3               5.0                3.0  ...  Rain-Snow             256\n",
              "1997-1-4               7.0                3.0  ...        NaN             284\n",
              "1997-1-5               2.0                0.0  ...       Snow               2\n",
              "\n",
              "[5 rows x 22 columns]"
            ]
          },
          "metadata": {
            "tags": []
          },
          "execution_count": 4
        }
      ]
    },
    {
      "cell_type": "markdown",
      "metadata": {
        "id": "c5n1A31fA1Jv",
        "colab_type": "text"
      },
      "source": [
        "# Building the weather event columns"
      ]
    },
    {
      "cell_type": "markdown",
      "metadata": {
        "id": "BgjMYzTs_7Zi",
        "colab_type": "text"
      },
      "source": [
        "We construct _binary_ columns as indicators of the key weather events that occurred during the day.\n",
        "\n",
        "The weather conditions are:\n",
        "\n",
        "- Rain, Snow, Fog, Thunderstorm, Hail, Tornado\n",
        "- and also _NoEvent_.\n",
        "\n",
        "They are additional columns to the dataframe."
      ]
    },
    {
      "cell_type": "code",
      "metadata": {
        "id": "170C1ERN3tOp",
        "colab_type": "code",
        "colab": {}
      },
      "source": [
        "event_columns = ['Rain', 'Snow', 'Fog', 'Thunderstorm', 'Hail', 'Tornado', 'NoEvent']"
      ],
      "execution_count": 0,
      "outputs": []
    },
    {
      "cell_type": "code",
      "metadata": {
        "id": "kOjR1mMC40Hg",
        "colab_type": "code",
        "colab": {}
      },
      "source": [
        "for ev in event_columns:\n",
        "  if ev == 'NoEvent':\n",
        "    df[ev] = df['Events'].isna()\n",
        "  else:\n",
        "    df[ev] = df['Events'].str.contains(ev).fillna(False)"
      ],
      "execution_count": 0,
      "outputs": []
    },
    {
      "cell_type": "markdown",
      "metadata": {
        "id": "uJ-jyIszAXVI",
        "colab_type": "text"
      },
      "source": [
        "Here is the _augmented_ dataframe.  Scroll horizontally to make sure that `df` now contains the binary indicators of each weather event."
      ]
    },
    {
      "cell_type": "code",
      "metadata": {
        "id": "dkRupUIp6Tpm",
        "colab_type": "code",
        "outputId": "112a258e-8740-4856-8467-0fc13be1db4c",
        "colab": {
          "base_uri": "https://localhost:8080/",
          "height": 272
        }
      },
      "source": [
        "df.head()\n",
        "\n",
        "# I filled in NaN fields so that loss function can be calculated as that requires no NaN fields\n",
        "# --- This method is disabled as it yields less accurate results ---\n",
        "#df['Events'] = df['Events'].fillna('NoEvent') # fill NaN values for events with 'NoEvent' so loss function can be calculated (requires no NaN fields)\n",
        "#df = df.fillna(method = 'ffill') # fill other NaN values (ie. gust speed) on days that were not measured with previous day's values (more accurate than calculating as 0)\n",
        "#df = df.fillna(method = 'bfill') # fill 0th index NaN values with the next day's values since ffill cannot fill 0th index values as there are no previous days\n",
        "\n",
        "# fill NaN with 0\n",
        "df = df.fillna(0)\n",
        "\n",
        "print(df)"
      ],
      "execution_count": 7,
      "outputs": [
        {
          "output_type": "stream",
          "text": [
            "            Max TemperatureC  Mean TemperatureC  ...  Tornado  NoEvent\n",
            "date                                             ...                  \n",
            "1997-1-1                 7.0                4.0  ...    False     True\n",
            "1997-1-2                 7.0                3.0  ...    False    False\n",
            "1997-1-3                 5.0                3.0  ...    False    False\n",
            "1997-1-4                 7.0                3.0  ...    False     True\n",
            "1997-1-5                 2.0                0.0  ...    False    False\n",
            "...                      ...                ...  ...      ...      ...\n",
            "2015-12-27              14.0                7.0  ...    False    False\n",
            "2015-12-28              15.0                8.0  ...    False    False\n",
            "2015-12-29              11.0                8.0  ...    False    False\n",
            "2015-12-30               9.0                8.0  ...    False     True\n",
            "2015-12-31              12.0               10.0  ...    False    False\n",
            "\n",
            "[6812 rows x 29 columns]\n"
          ],
          "name": "stdout"
        }
      ]
    },
    {
      "cell_type": "markdown",
      "metadata": {
        "id": "Fv9-vFU9Ayay",
        "colab_type": "text"
      },
      "source": [
        "## Building the features"
      ]
    },
    {
      "cell_type": "markdown",
      "metadata": {
        "id": "u3iA1HBHBHHi",
        "colab_type": "text"
      },
      "source": [
        "We identify the numeric columns as _observations_.  We will use these columns as input vectors to a neural network.\n",
        "\n",
        "**Note**: Since large magnitude differences will cause serious numerical issues during gradient descent, we *always* use **normalized** vectors.  So for each numerical column, we compute the minimum and maximum values which are used to rescale the column to the range of :\n",
        "`[0.0 .. 1.0]`"
      ]
    },
    {
      "cell_type": "code",
      "metadata": {
        "id": "-IorDBmn6Uvd",
        "colab_type": "code",
        "colab": {}
      },
      "source": [
        "def get_normalized_features(df, columns):\n",
        "  df2 = pd.DataFrame(index=df.index)\n",
        "  for c in columns:\n",
        "    series = df[c]\n",
        "    max = series.max()\n",
        "    min = series.min()\n",
        "    df2[c] = (series - min) / (max - min)\n",
        "  return df2"
      ],
      "execution_count": 0,
      "outputs": []
    },
    {
      "cell_type": "code",
      "metadata": {
        "id": "wSTJUBsZ7gJ_",
        "colab_type": "code",
        "colab": {}
      },
      "source": [
        "numeric_columns = [\n",
        "       'Max TemperatureC',\n",
        "       'Mean TemperatureC',\n",
        "       'Min TemperatureC',\n",
        "       'Dew PointC',\n",
        "       'MeanDew PointC',\n",
        "       'Min DewpointC',\n",
        "       'Max Humidity',\n",
        "       'Mean Humidity',\n",
        "       'Min Humidity',\n",
        "       'Max Sea Level PressurehPa',\n",
        "       'Mean Sea Level PressurehPa',\n",
        "       'Min Sea Level PressurehPa',\n",
        "       'Max VisibilityKm',\n",
        "       'Mean VisibilityKm',\n",
        "       'Min VisibilitykM',\n",
        "       'Max Wind SpeedKm/h',\n",
        "       'Mean Wind SpeedKm/h',\n",
        "       'Max Gust SpeedKm/h',\n",
        "       'Precipitationmm',\n",
        "       'CloudCover',\n",
        "       'WindDirDegrees']"
      ],
      "execution_count": 0,
      "outputs": []
    },
    {
      "cell_type": "markdown",
      "metadata": {
        "id": "jiFf93CaCN1i",
        "colab_type": "text"
      },
      "source": [
        "The features are the normalized observations.  We can use them in learning a model to predict weather events."
      ]
    },
    {
      "cell_type": "code",
      "metadata": {
        "id": "6isMtbP-7nLX",
        "colab_type": "code",
        "outputId": "f03e75e4-6e80-4439-b89a-18a3e8ec35b5",
        "colab": {
          "base_uri": "https://localhost:8080/",
          "height": 374
        }
      },
      "source": [
        "features = get_normalized_features(df, numeric_columns)\n",
        "features.head()"
      ],
      "execution_count": 10,
      "outputs": [
        {
          "output_type": "execute_result",
          "data": {
            "text/html": [
              "<div>\n",
              "<style scoped>\n",
              "    .dataframe tbody tr th:only-of-type {\n",
              "        vertical-align: middle;\n",
              "    }\n",
              "\n",
              "    .dataframe tbody tr th {\n",
              "        vertical-align: top;\n",
              "    }\n",
              "\n",
              "    .dataframe thead th {\n",
              "        text-align: right;\n",
              "    }\n",
              "</style>\n",
              "<table border=\"1\" class=\"dataframe\">\n",
              "  <thead>\n",
              "    <tr style=\"text-align: right;\">\n",
              "      <th></th>\n",
              "      <th>Max TemperatureC</th>\n",
              "      <th>Mean TemperatureC</th>\n",
              "      <th>Min TemperatureC</th>\n",
              "      <th>Dew PointC</th>\n",
              "      <th>MeanDew PointC</th>\n",
              "      <th>Min DewpointC</th>\n",
              "      <th>Max Humidity</th>\n",
              "      <th>Mean Humidity</th>\n",
              "      <th>Min Humidity</th>\n",
              "      <th>Max Sea Level PressurehPa</th>\n",
              "      <th>Mean Sea Level PressurehPa</th>\n",
              "      <th>Min Sea Level PressurehPa</th>\n",
              "      <th>Max VisibilityKm</th>\n",
              "      <th>Mean VisibilityKm</th>\n",
              "      <th>Min VisibilitykM</th>\n",
              "      <th>Max Wind SpeedKm/h</th>\n",
              "      <th>Mean Wind SpeedKm/h</th>\n",
              "      <th>Max Gust SpeedKm/h</th>\n",
              "      <th>Precipitationmm</th>\n",
              "      <th>CloudCover</th>\n",
              "      <th>WindDirDegrees</th>\n",
              "    </tr>\n",
              "    <tr>\n",
              "      <th>date</th>\n",
              "      <th></th>\n",
              "      <th></th>\n",
              "      <th></th>\n",
              "      <th></th>\n",
              "      <th></th>\n",
              "      <th></th>\n",
              "      <th></th>\n",
              "      <th></th>\n",
              "      <th></th>\n",
              "      <th></th>\n",
              "      <th></th>\n",
              "      <th></th>\n",
              "      <th></th>\n",
              "      <th></th>\n",
              "      <th></th>\n",
              "      <th></th>\n",
              "      <th></th>\n",
              "      <th></th>\n",
              "      <th></th>\n",
              "      <th></th>\n",
              "      <th></th>\n",
              "    </tr>\n",
              "  </thead>\n",
              "  <tbody>\n",
              "    <tr>\n",
              "      <th>1997-1-1</th>\n",
              "      <td>0.170732</td>\n",
              "      <td>0.200000</td>\n",
              "      <td>0.315789</td>\n",
              "      <td>0.53125</td>\n",
              "      <td>0.580645</td>\n",
              "      <td>0.666667</td>\n",
              "      <td>1.00</td>\n",
              "      <td>0.95</td>\n",
              "      <td>0.76</td>\n",
              "      <td>0.301887</td>\n",
              "      <td>0.385965</td>\n",
              "      <td>0.513158</td>\n",
              "      <td>0.322581</td>\n",
              "      <td>0.290323</td>\n",
              "      <td>0.129032</td>\n",
              "      <td>0.071429</td>\n",
              "      <td>0.153846</td>\n",
              "      <td>0.000000</td>\n",
              "      <td>0.0</td>\n",
              "      <td>0.750</td>\n",
              "      <td>0.637119</td>\n",
              "    </tr>\n",
              "    <tr>\n",
              "      <th>1997-1-2</th>\n",
              "      <td>0.170732</td>\n",
              "      <td>0.171429</td>\n",
              "      <td>0.263158</td>\n",
              "      <td>0.56250</td>\n",
              "      <td>0.580645</td>\n",
              "      <td>0.611111</td>\n",
              "      <td>1.00</td>\n",
              "      <td>0.92</td>\n",
              "      <td>0.71</td>\n",
              "      <td>0.245283</td>\n",
              "      <td>0.298246</td>\n",
              "      <td>0.421053</td>\n",
              "      <td>0.322581</td>\n",
              "      <td>0.290323</td>\n",
              "      <td>0.129032</td>\n",
              "      <td>0.142857</td>\n",
              "      <td>0.205128</td>\n",
              "      <td>0.456311</td>\n",
              "      <td>0.0</td>\n",
              "      <td>0.625</td>\n",
              "      <td>0.398892</td>\n",
              "    </tr>\n",
              "    <tr>\n",
              "      <th>1997-1-3</th>\n",
              "      <td>0.121951</td>\n",
              "      <td>0.171429</td>\n",
              "      <td>0.315789</td>\n",
              "      <td>0.53125</td>\n",
              "      <td>0.516129</td>\n",
              "      <td>0.583333</td>\n",
              "      <td>1.00</td>\n",
              "      <td>0.85</td>\n",
              "      <td>0.70</td>\n",
              "      <td>0.207547</td>\n",
              "      <td>0.228070</td>\n",
              "      <td>0.407895</td>\n",
              "      <td>0.322581</td>\n",
              "      <td>0.322581</td>\n",
              "      <td>0.225806</td>\n",
              "      <td>0.148352</td>\n",
              "      <td>0.487179</td>\n",
              "      <td>0.000000</td>\n",
              "      <td>0.0</td>\n",
              "      <td>0.750</td>\n",
              "      <td>0.711911</td>\n",
              "    </tr>\n",
              "    <tr>\n",
              "      <th>1997-1-4</th>\n",
              "      <td>0.170732</td>\n",
              "      <td>0.171429</td>\n",
              "      <td>0.236842</td>\n",
              "      <td>0.31250</td>\n",
              "      <td>0.387097</td>\n",
              "      <td>0.500000</td>\n",
              "      <td>0.86</td>\n",
              "      <td>0.63</td>\n",
              "      <td>0.49</td>\n",
              "      <td>0.339623</td>\n",
              "      <td>0.421053</td>\n",
              "      <td>0.526316</td>\n",
              "      <td>0.322581</td>\n",
              "      <td>0.322581</td>\n",
              "      <td>0.322581</td>\n",
              "      <td>0.148352</td>\n",
              "      <td>0.487179</td>\n",
              "      <td>0.388350</td>\n",
              "      <td>0.0</td>\n",
              "      <td>0.250</td>\n",
              "      <td>0.789474</td>\n",
              "    </tr>\n",
              "    <tr>\n",
              "      <th>1997-1-5</th>\n",
              "      <td>0.048780</td>\n",
              "      <td>0.085714</td>\n",
              "      <td>0.236842</td>\n",
              "      <td>0.43750</td>\n",
              "      <td>0.483871</td>\n",
              "      <td>0.527778</td>\n",
              "      <td>1.00</td>\n",
              "      <td>0.95</td>\n",
              "      <td>0.86</td>\n",
              "      <td>0.339623</td>\n",
              "      <td>0.385965</td>\n",
              "      <td>0.526316</td>\n",
              "      <td>0.322581</td>\n",
              "      <td>0.161290</td>\n",
              "      <td>0.032258</td>\n",
              "      <td>0.076923</td>\n",
              "      <td>0.153846</td>\n",
              "      <td>0.000000</td>\n",
              "      <td>0.0</td>\n",
              "      <td>0.875</td>\n",
              "      <td>0.008310</td>\n",
              "    </tr>\n",
              "  </tbody>\n",
              "</table>\n",
              "</div>"
            ],
            "text/plain": [
              "          Max TemperatureC  Mean TemperatureC  ...  CloudCover  WindDirDegrees\n",
              "date                                           ...                            \n",
              "1997-1-1          0.170732           0.200000  ...       0.750        0.637119\n",
              "1997-1-2          0.170732           0.171429  ...       0.625        0.398892\n",
              "1997-1-3          0.121951           0.171429  ...       0.750        0.711911\n",
              "1997-1-4          0.170732           0.171429  ...       0.250        0.789474\n",
              "1997-1-5          0.048780           0.085714  ...       0.875        0.008310\n",
              "\n",
              "[5 rows x 21 columns]"
            ]
          },
          "metadata": {
            "tags": []
          },
          "execution_count": 10
        }
      ]
    },
    {
      "cell_type": "code",
      "metadata": {
        "id": "W3RTf2Yt8EB-",
        "colab_type": "code",
        "outputId": "c1676854-5acd-4ce0-fb39-d59dba253bc4",
        "colab": {
          "base_uri": "https://localhost:8080/",
          "height": 34
        }
      },
      "source": [
        "features.shape"
      ],
      "execution_count": 11,
      "outputs": [
        {
          "output_type": "execute_result",
          "data": {
            "text/plain": [
              "(6812, 21)"
            ]
          },
          "metadata": {
            "tags": []
          },
          "execution_count": 11
        }
      ]
    },
    {
      "cell_type": "markdown",
      "metadata": {
        "id": "xbMRqEh5Ck41",
        "colab_type": "text"
      },
      "source": [
        "# Building Output"
      ]
    },
    {
      "cell_type": "markdown",
      "metadata": {
        "id": "O0R9jBXtCzkz",
        "colab_type": "text"
      },
      "source": [
        "The targets are 0/1 columns for each of the "
      ]
    },
    {
      "cell_type": "code",
      "metadata": {
        "id": "AaYdIfj48S80",
        "colab_type": "code",
        "outputId": "d1806ac2-381a-42d0-dc0b-3d0b17e6931b",
        "colab": {
          "base_uri": "https://localhost:8080/",
          "height": 235
        }
      },
      "source": [
        "targets = df[event_columns].applymap(lambda x: 1 if x else 0)\n",
        "targets.head()"
      ],
      "execution_count": 12,
      "outputs": [
        {
          "output_type": "execute_result",
          "data": {
            "text/html": [
              "<div>\n",
              "<style scoped>\n",
              "    .dataframe tbody tr th:only-of-type {\n",
              "        vertical-align: middle;\n",
              "    }\n",
              "\n",
              "    .dataframe tbody tr th {\n",
              "        vertical-align: top;\n",
              "    }\n",
              "\n",
              "    .dataframe thead th {\n",
              "        text-align: right;\n",
              "    }\n",
              "</style>\n",
              "<table border=\"1\" class=\"dataframe\">\n",
              "  <thead>\n",
              "    <tr style=\"text-align: right;\">\n",
              "      <th></th>\n",
              "      <th>Rain</th>\n",
              "      <th>Snow</th>\n",
              "      <th>Fog</th>\n",
              "      <th>Thunderstorm</th>\n",
              "      <th>Hail</th>\n",
              "      <th>Tornado</th>\n",
              "      <th>NoEvent</th>\n",
              "    </tr>\n",
              "    <tr>\n",
              "      <th>date</th>\n",
              "      <th></th>\n",
              "      <th></th>\n",
              "      <th></th>\n",
              "      <th></th>\n",
              "      <th></th>\n",
              "      <th></th>\n",
              "      <th></th>\n",
              "    </tr>\n",
              "  </thead>\n",
              "  <tbody>\n",
              "    <tr>\n",
              "      <th>1997-1-1</th>\n",
              "      <td>0</td>\n",
              "      <td>0</td>\n",
              "      <td>0</td>\n",
              "      <td>0</td>\n",
              "      <td>0</td>\n",
              "      <td>0</td>\n",
              "      <td>1</td>\n",
              "    </tr>\n",
              "    <tr>\n",
              "      <th>1997-1-2</th>\n",
              "      <td>1</td>\n",
              "      <td>0</td>\n",
              "      <td>0</td>\n",
              "      <td>0</td>\n",
              "      <td>0</td>\n",
              "      <td>0</td>\n",
              "      <td>0</td>\n",
              "    </tr>\n",
              "    <tr>\n",
              "      <th>1997-1-3</th>\n",
              "      <td>1</td>\n",
              "      <td>1</td>\n",
              "      <td>0</td>\n",
              "      <td>0</td>\n",
              "      <td>0</td>\n",
              "      <td>0</td>\n",
              "      <td>0</td>\n",
              "    </tr>\n",
              "    <tr>\n",
              "      <th>1997-1-4</th>\n",
              "      <td>0</td>\n",
              "      <td>0</td>\n",
              "      <td>0</td>\n",
              "      <td>0</td>\n",
              "      <td>0</td>\n",
              "      <td>0</td>\n",
              "      <td>1</td>\n",
              "    </tr>\n",
              "    <tr>\n",
              "      <th>1997-1-5</th>\n",
              "      <td>0</td>\n",
              "      <td>1</td>\n",
              "      <td>0</td>\n",
              "      <td>0</td>\n",
              "      <td>0</td>\n",
              "      <td>0</td>\n",
              "      <td>0</td>\n",
              "    </tr>\n",
              "  </tbody>\n",
              "</table>\n",
              "</div>"
            ],
            "text/plain": [
              "          Rain  Snow  Fog  Thunderstorm  Hail  Tornado  NoEvent\n",
              "date                                                           \n",
              "1997-1-1     0     0    0             0     0        0        1\n",
              "1997-1-2     1     0    0             0     0        0        0\n",
              "1997-1-3     1     1    0             0     0        0        0\n",
              "1997-1-4     0     0    0             0     0        0        1\n",
              "1997-1-5     0     1    0             0     0        0        0"
            ]
          },
          "metadata": {
            "tags": []
          },
          "execution_count": 12
        }
      ]
    },
    {
      "cell_type": "markdown",
      "metadata": {
        "id": "79sdyPr-Gd4V",
        "colab_type": "text"
      },
      "source": [
        "# Building the training and test data\n",
        "\n",
        "We will split the data as follows:\n",
        "\n",
        "- Training: 1997 - 2007\n",
        "- Testing: 2007 - 2015"
      ]
    },
    {
      "cell_type": "code",
      "metadata": {
        "id": "I04wZvc0Gn1T",
        "colab_type": "code",
        "colab": {}
      },
      "source": [
        "x_train = features.loc[:'2007-12-31']\n",
        "x_test = features.loc['2008-1-1':]\n",
        "\n",
        "y_train = targets.loc[x_train.index]\n",
        "y_test = targets.loc[x_test.index]"
      ],
      "execution_count": 0,
      "outputs": []
    },
    {
      "cell_type": "code",
      "metadata": {
        "id": "pGZ8tJbQG-WW",
        "colab_type": "code",
        "outputId": "8a16268b-3350-44cd-e2df-8153b752e928",
        "colab": {
          "base_uri": "https://localhost:8080/",
          "height": 85
        }
      },
      "source": [
        "x_train.shape, x_test.shape\n",
        "\n",
        "print(x_train.shape)\n",
        "print(x_test.shape)\n",
        "print(y_train.shape)\n",
        "print(y_test.shape)"
      ],
      "execution_count": 14,
      "outputs": [
        {
          "output_type": "stream",
          "text": [
            "(3890, 21)\n",
            "(2922, 21)\n",
            "(3890, 7)\n",
            "(2922, 7)\n"
          ],
          "name": "stdout"
        }
      ]
    },
    {
      "cell_type": "code",
      "metadata": {
        "id": "VxA1-9LoG_tl",
        "colab_type": "code",
        "outputId": "45a7aaf4-b3dd-41c7-9153-8e45b8fc4cd4",
        "colab": {
          "base_uri": "https://localhost:8080/",
          "height": 235
        }
      },
      "source": [
        "y_test.head()"
      ],
      "execution_count": 15,
      "outputs": [
        {
          "output_type": "execute_result",
          "data": {
            "text/html": [
              "<div>\n",
              "<style scoped>\n",
              "    .dataframe tbody tr th:only-of-type {\n",
              "        vertical-align: middle;\n",
              "    }\n",
              "\n",
              "    .dataframe tbody tr th {\n",
              "        vertical-align: top;\n",
              "    }\n",
              "\n",
              "    .dataframe thead th {\n",
              "        text-align: right;\n",
              "    }\n",
              "</style>\n",
              "<table border=\"1\" class=\"dataframe\">\n",
              "  <thead>\n",
              "    <tr style=\"text-align: right;\">\n",
              "      <th></th>\n",
              "      <th>Rain</th>\n",
              "      <th>Snow</th>\n",
              "      <th>Fog</th>\n",
              "      <th>Thunderstorm</th>\n",
              "      <th>Hail</th>\n",
              "      <th>Tornado</th>\n",
              "      <th>NoEvent</th>\n",
              "    </tr>\n",
              "    <tr>\n",
              "      <th>date</th>\n",
              "      <th></th>\n",
              "      <th></th>\n",
              "      <th></th>\n",
              "      <th></th>\n",
              "      <th></th>\n",
              "      <th></th>\n",
              "      <th></th>\n",
              "    </tr>\n",
              "  </thead>\n",
              "  <tbody>\n",
              "    <tr>\n",
              "      <th>2008-1-1</th>\n",
              "      <td>0</td>\n",
              "      <td>0</td>\n",
              "      <td>0</td>\n",
              "      <td>0</td>\n",
              "      <td>0</td>\n",
              "      <td>0</td>\n",
              "      <td>1</td>\n",
              "    </tr>\n",
              "    <tr>\n",
              "      <th>2008-1-2</th>\n",
              "      <td>1</td>\n",
              "      <td>0</td>\n",
              "      <td>0</td>\n",
              "      <td>0</td>\n",
              "      <td>0</td>\n",
              "      <td>0</td>\n",
              "      <td>0</td>\n",
              "    </tr>\n",
              "    <tr>\n",
              "      <th>2008-1-3</th>\n",
              "      <td>1</td>\n",
              "      <td>0</td>\n",
              "      <td>0</td>\n",
              "      <td>0</td>\n",
              "      <td>0</td>\n",
              "      <td>0</td>\n",
              "      <td>0</td>\n",
              "    </tr>\n",
              "    <tr>\n",
              "      <th>2008-1-4</th>\n",
              "      <td>0</td>\n",
              "      <td>0</td>\n",
              "      <td>0</td>\n",
              "      <td>0</td>\n",
              "      <td>0</td>\n",
              "      <td>0</td>\n",
              "      <td>1</td>\n",
              "    </tr>\n",
              "    <tr>\n",
              "      <th>2008-1-5</th>\n",
              "      <td>0</td>\n",
              "      <td>0</td>\n",
              "      <td>0</td>\n",
              "      <td>0</td>\n",
              "      <td>0</td>\n",
              "      <td>0</td>\n",
              "      <td>1</td>\n",
              "    </tr>\n",
              "  </tbody>\n",
              "</table>\n",
              "</div>"
            ],
            "text/plain": [
              "          Rain  Snow  Fog  Thunderstorm  Hail  Tornado  NoEvent\n",
              "date                                                           \n",
              "2008-1-1     0     0    0             0     0        0        1\n",
              "2008-1-2     1     0    0             0     0        0        0\n",
              "2008-1-3     1     0    0             0     0        0        0\n",
              "2008-1-4     0     0    0             0     0        0        1\n",
              "2008-1-5     0     0    0             0     0        0        1"
            ]
          },
          "metadata": {
            "tags": []
          },
          "execution_count": 15
        }
      ]
    },
    {
      "cell_type": "code",
      "metadata": {
        "id": "2LIaIIKNHgyS",
        "colab_type": "code",
        "outputId": "66a16b20-05f7-427d-b2b4-41eaa195d328",
        "colab": {
          "base_uri": "https://localhost:8080/",
          "height": 153
        }
      },
      "source": [
        "y_train.sum()\n"
      ],
      "execution_count": 16,
      "outputs": [
        {
          "output_type": "execute_result",
          "data": {
            "text/plain": [
              "Rain             820\n",
              "Snow              23\n",
              "Fog              181\n",
              "Thunderstorm     189\n",
              "Hail               2\n",
              "Tornado            1\n",
              "NoEvent         2881\n",
              "dtype: int64"
            ]
          },
          "metadata": {
            "tags": []
          },
          "execution_count": 16
        }
      ]
    },
    {
      "cell_type": "markdown",
      "metadata": {
        "id": "Sz6i_Qhj8pom",
        "colab_type": "text"
      },
      "source": [
        "# ✎ Build model(s)\n",
        "\n",
        "You need to build a _Keras_ model that predicts the weather events.\n",
        "\n",
        "The only restriction is that you must **NOT** use the dataframes `x_test`, `y_test` during training.\n",
        "\n",
        "**Note**:\n",
        "\n",
        "You can build one or more models (for example, one model for each and different weather event)."
      ]
    },
    {
      "cell_type": "markdown",
      "metadata": {
        "id": "fVyer9iUH57W",
        "colab_type": "text"
      },
      "source": [
        "You need to design the architecture and the loss function."
      ]
    },
    {
      "cell_type": "code",
      "metadata": {
        "id": "olqPE0hZ9f_B",
        "colab_type": "code",
        "outputId": "652fa4dc-35b0-48c1-fcee-95c44c5bbdd3",
        "colab": {
          "base_uri": "https://localhost:8080/",
          "height": 289
        }
      },
      "source": [
        "# For a multi-label multi-class classification, sigmoid activation and binary crossentropy can be used.\n",
        "# 4 dense layer MLP model with adam(0.001) as optimizer\n",
        "\n",
        "model = Sequential([\n",
        "  Input(shape=(21,)),\n",
        "  Dense(7),\n",
        "  Dense(7),\n",
        "  Dense(7),\n",
        "  Dense(7, activation='sigmoid')\n",
        "])\n",
        "model.compile(loss=binary_crossentropy, optimizer='adam', metrics=['acc'])\n",
        "model.summary()"
      ],
      "execution_count": 17,
      "outputs": [
        {
          "output_type": "stream",
          "text": [
            "Model: \"sequential\"\n",
            "_________________________________________________________________\n",
            "Layer (type)                 Output Shape              Param #   \n",
            "=================================================================\n",
            "dense (Dense)                (None, 7)                 154       \n",
            "_________________________________________________________________\n",
            "dense_1 (Dense)              (None, 7)                 56        \n",
            "_________________________________________________________________\n",
            "dense_2 (Dense)              (None, 7)                 56        \n",
            "_________________________________________________________________\n",
            "dense_3 (Dense)              (None, 7)                 56        \n",
            "=================================================================\n",
            "Total params: 322\n",
            "Trainable params: 322\n",
            "Non-trainable params: 0\n",
            "_________________________________________________________________\n"
          ],
          "name": "stdout"
        }
      ]
    },
    {
      "cell_type": "markdown",
      "metadata": {
        "id": "Dx9aSfxxFocZ",
        "colab_type": "text"
      },
      "source": [
        "# ✎ Train the model(s)\n",
        "\n",
        "You must:\n",
        "\n",
        "- Select an appropriate optimizer and learning rate.\n",
        "- Plot the loss over the epochs of training.\n",
        "- Plot the training accuracy over the epochs.\n",
        "\n",
        "**Challenge**\n",
        "\n",
        "It's extremely difficult to get good training on _rare_ events.  Note that there is only **ONE** Tornado and **TWO** Hail events in the training data.\n",
        "\n",
        "An effective way is to duplicate the rare events in the training data, and use _shuffle=True_ in the training (model.fit) so that the network sees approximately equal number of occurrances of different weather events."
      ]
    },
    {
      "cell_type": "code",
      "metadata": {
        "id": "W_Btm8wsGF68",
        "colab_type": "code",
        "outputId": "d2f3ad26-0968-48bc-caa5-8a1d51e20697",
        "colab": {
          "base_uri": "https://localhost:8080/",
          "height": 928
        }
      },
      "source": [
        "# Oversampling technique (duplicating under-represented rare events)\n",
        "y_train_np = y_train.to_numpy()\n",
        "x_train_np = x_train.to_numpy()\n",
        "oversampled_y_train = y_train_np\n",
        "oversampled_x_train = x_train_np\n",
        "\n",
        "snow_events_indices = []\n",
        "fog_events_indices = []\n",
        "thunderstorm_events_indices = []\n",
        "hail_events_indices = []\n",
        "tornado_events_indices = []\n",
        "\n",
        "# Get rare events indices to duplicate\n",
        "# -------------------------------------------\n",
        "for i in range(1,3890):\n",
        "    if y_train_np[i][1] == 1: # Snow\n",
        "      snow_events_indices.append(i)\n",
        "    if y_train_np[i][2] == 1: # Fog\n",
        "      fog_events_indices.append(i)\n",
        "    if y_train_np[i][3] == 1: # Thunderstorm\n",
        "      thunderstorm_events_indices.append(i) \n",
        "    if y_train_np[i][4] == 1: # Hail\n",
        "      hail_events_indices.append(i)\n",
        "    if y_train_np[i][5] == 1: # Tornado\n",
        "      tornado_events_indices.append(i)\n",
        "# -------------------------------------------\n",
        "\n",
        "# Oversampling: Duplicate each [SNOW] event 3 times\n",
        "# ---------------------------------------------------------\n",
        "repetitions = 3\n",
        "\n",
        "for i in range(1,len(snow_events_indices)):\n",
        "  y_duplicate = np.repeat([oversampled_y_train[snow_events_indices[i]]],repeats=repetitions ,axis=0)\n",
        "  oversampled_y_train = np.vstack([oversampled_y_train, y_duplicate])\n",
        "  x_duplicate = np.repeat([oversampled_x_train[snow_events_indices[i]]],repeats=repetitions ,axis=0)\n",
        "  oversampled_x_train = np.vstack([oversampled_x_train, x_duplicate])\n",
        "# ---------------------------------------------------------\n",
        "\n",
        "# Oversampling: Duplicate each [FOG] events 1 time\n",
        "# ---------------------------------------------------------\n",
        "repetitions = 1\n",
        "total_sample_pool = 1.0\n",
        "\n",
        "for i in range(1,int(len(fog_events_indices)*total_sample_pool)):\n",
        "  y_duplicate = np.repeat([oversampled_y_train[fog_events_indices[i]]],repeats=repetitions ,axis=0)\n",
        "  oversampled_y_train = np.vstack([oversampled_y_train, y_duplicate])\n",
        "  x_duplicate = np.repeat([oversampled_x_train[fog_events_indices[i]]],repeats=repetitions ,axis=0)\n",
        "  oversampled_x_train = np.vstack([oversampled_x_train, x_duplicate])\n",
        "# ---------------------------------------------------------\n",
        "\n",
        "# Oversampling: Duplicate each [THUNDERSTORM] events 2 times\n",
        "# ---------------------------------------------------------\n",
        "repetitions = 2\n",
        "total_sample_pool = 1.0\n",
        "\n",
        "for i in range(1,int(len(thunderstorm_events_indices)*total_sample_pool)):\n",
        "  y_duplicate = np.repeat([oversampled_y_train[thunderstorm_events_indices[i]]],repeats=repetitions ,axis=0)\n",
        "  oversampled_y_train = np.vstack([oversampled_y_train, y_duplicate])\n",
        "  x_duplicate = np.repeat([oversampled_x_train[thunderstorm_events_indices[i]]],repeats=repetitions ,axis=0)\n",
        "  oversampled_x_train = np.vstack([oversampled_x_train, x_duplicate])\n",
        "# ---------------------------------------------------------\n",
        "\n",
        "# Oversampling: Duplicate each [HAIL] event 20 times\n",
        "# ---------------------------------------------------------\n",
        "repetitions = 20\n",
        "\n",
        "for i in range(1,len(hail_events_indices)):\n",
        "  y_duplicate = np.repeat([oversampled_y_train[hail_events_indices[i]]],repeats=repetitions ,axis=0)\n",
        "  oversampled_y_train = np.vstack([oversampled_y_train, y_duplicate])\n",
        "  x_duplicate = np.repeat([oversampled_x_train[hail_events_indices[i]]],repeats=repetitions ,axis=0)\n",
        "  oversampled_x_train = np.vstack([oversampled_x_train, x_duplicate])\n",
        "# ---------------------------------------------------------\n",
        "\n",
        "# Oversampling: Duplicate each [TORNADO] event 20 times\n",
        "# ---------------------------------------------------------\n",
        "repetitions = 20\n",
        "\n",
        "for i in range(1,len(tornado_events_indices)):\n",
        "  y_duplicate = np.repeat([oversampled_y_train[tornado_events_indices[i]]],repeats=repetitions ,axis=0)\n",
        "  oversampled_y_train = np.vstack([oversampled_y_train, y_duplicate])\n",
        "  x_duplicate = np.repeat([oversampled_x_train[tornado_events_indices[i]]],repeats=repetitions ,axis=0)\n",
        "  oversampled_x_train = np.vstack([oversampled_x_train, x_duplicate])\n",
        "# ---------------------------------------------------------\n",
        "\n",
        "\n",
        "\n",
        "# Train oversampled model\n",
        "history = model.fit(oversampled_x_train, oversampled_y_train, epochs=10, batch_size=4, shuffle=True, validation_split=0.1).history\n",
        "\n",
        "# Train normal model\n",
        "#history2 = model.fit(x_train.to_numpy(), y_train.to_numpy(), epochs=10, batch_size=4, validation_split=0.1).history\n",
        "\n",
        "model.summary()\n",
        "\n",
        "# Oversampled plot\n",
        "print(\"Loss\")\n",
        "pyplot.subplot(2,1,1)\n",
        "pyplot.plot(history['loss'], '-*', color='blue');\n",
        "print(\"Acc\")\n",
        "pyplot.subplot(2,1,2)\n",
        "pyplot.plot(history['acc'], '-', color='red');"
      ],
      "execution_count": 18,
      "outputs": [
        {
          "output_type": "stream",
          "text": [
            "Train on 4078 samples, validate on 454 samples\n",
            "Epoch 1/10\n",
            "4078/4078 [==============================] - 4s 953us/sample - loss: 0.2603 - acc: 0.8991 - val_loss: 0.9691 - val_acc: 0.6114\n",
            "Epoch 2/10\n",
            "4078/4078 [==============================] - 2s 575us/sample - loss: 0.1730 - acc: 0.9337 - val_loss: 0.7889 - val_acc: 0.7074\n",
            "Epoch 3/10\n",
            "4078/4078 [==============================] - 2s 575us/sample - loss: 0.1564 - acc: 0.9397 - val_loss: 0.6531 - val_acc: 0.7291\n",
            "Epoch 4/10\n",
            "4078/4078 [==============================] - 2s 569us/sample - loss: 0.1510 - acc: 0.9420 - val_loss: 0.6703 - val_acc: 0.7244\n",
            "Epoch 5/10\n",
            "4078/4078 [==============================] - 2s 572us/sample - loss: 0.1468 - acc: 0.9422 - val_loss: 0.6696 - val_acc: 0.7420\n",
            "Epoch 6/10\n",
            "4078/4078 [==============================] - 2s 563us/sample - loss: 0.1435 - acc: 0.9427 - val_loss: 0.6903 - val_acc: 0.7278\n",
            "Epoch 7/10\n",
            "4078/4078 [==============================] - 2s 589us/sample - loss: 0.1401 - acc: 0.9440 - val_loss: 0.5419 - val_acc: 0.7649\n",
            "Epoch 8/10\n",
            "4078/4078 [==============================] - 2s 573us/sample - loss: 0.1359 - acc: 0.9436 - val_loss: 0.6206 - val_acc: 0.7395\n",
            "Epoch 9/10\n",
            "4078/4078 [==============================] - 2s 608us/sample - loss: 0.1278 - acc: 0.9477 - val_loss: 0.5917 - val_acc: 0.7612\n",
            "Epoch 10/10\n",
            "4078/4078 [==============================] - 2s 587us/sample - loss: 0.1217 - acc: 0.9514 - val_loss: 0.5218 - val_acc: 0.7766\n",
            "Model: \"sequential\"\n",
            "_________________________________________________________________\n",
            "Layer (type)                 Output Shape              Param #   \n",
            "=================================================================\n",
            "dense (Dense)                (None, 7)                 154       \n",
            "_________________________________________________________________\n",
            "dense_1 (Dense)              (None, 7)                 56        \n",
            "_________________________________________________________________\n",
            "dense_2 (Dense)              (None, 7)                 56        \n",
            "_________________________________________________________________\n",
            "dense_3 (Dense)              (None, 7)                 56        \n",
            "=================================================================\n",
            "Total params: 322\n",
            "Trainable params: 322\n",
            "Non-trainable params: 0\n",
            "_________________________________________________________________\n",
            "Loss\n",
            "Acc\n"
          ],
          "name": "stdout"
        },
        {
          "output_type": "display_data",
          "data": {
            "image/png": "[encoded data removed]",
            "text/plain": [
              "<Figure size 432x288 with 2 Axes>"
            ]
          },
          "metadata": {
            "tags": []
          }
        }
      ]
    },
    {
      "cell_type": "markdown",
      "metadata": {
        "id": "mFuPe6iAGJoP",
        "colab_type": "text"
      },
      "source": [
        "# ✎ Evaluation\n",
        "\n",
        "Evaluate the model using the test data.\n",
        "\n",
        "- You must plot the test accurarcy with respect to **each** event type.\n",
        "\n",
        "- For which weather event is your model actually useful?\n"
      ]
    },
    {
      "cell_type": "code",
      "metadata": {
        "id": "4lHOwZ-pJI4p",
        "colab_type": "code",
        "outputId": "fe5166b3-e89b-41b2-fa71-dca839f5bc1e",
        "colab": {
          "base_uri": "https://localhost:8080/",
          "height": 931
        }
      },
      "source": [
        "#np.set_printoptions(threshold=np.inf)\n",
        "\n",
        "overall_accuracy = model.evaluate(x_test.to_numpy(), y_test.to_numpy())\n",
        "overall_accuracy = overall_accuracy[1]\n",
        "print(\"\\nOverall Accuracy:\")\n",
        "print(overall_accuracy)\n",
        "\n",
        "# z = np.argmax(model.predict(x_test.to_numpy()), axis=1)\n",
        "\n",
        "# Count weather event occurences based on a threshold 0.5 weighted probability outputted through our 'sigmoid' loss function \n",
        "# Instead of using argmax, this allows for potentially more than 1 weather event in a given day (multi classification)\n",
        "## -------------------------------------------------------------------------------------------------------------------------\n",
        "\n",
        "# Prediction event counter, prediction model \n",
        "predictedEvents = [0] * 7\n",
        "predictY = model.predict(x_test.to_numpy())\n",
        "\n",
        "# Actual events, to test against for accuracy calculation\n",
        "y_test_np = y_test.to_numpy()\n",
        "TP_predictions = [0] * 7 # True Positive (Predict yes, it was yes)\n",
        "TN_predictions = [0] * 7 # True Negative (Predict no, it was no)\n",
        "FP_predictions = [0] * 7 # False Positive (Predict yes, it was no)\n",
        "FN_predictions = [0] * 7 # False Negative (Predict no, it was yes)\n",
        "\n",
        "# Count predictions\n",
        "for i in range(2922):\n",
        "  for j in range(7):\n",
        "    if predictY[i][j] >= 0.5: # Above our assumed threshold, we predict it occurs\n",
        "      predictedEvents[j] += 1\n",
        "      if y_test_np[i][j] == 1: # If we predict yes and actual was yes\n",
        "        TP_predictions[j] +=1\n",
        "      else: # Otherwise, we predict yes but it was actually no\n",
        "        FP_predictions[j] +=1\n",
        "    if predictY[i][j] < 0.5: # If value is below our threshold, we predict it does not occur\n",
        "      if y_test_np[i][j] == 0:\n",
        "        TN_predictions[j] +=1 # We are right, it does not occur\n",
        "      else: # Otherwise, we are wrong\n",
        "        FN_predictions[j] +=1  \n",
        "\n",
        "# Print predictions\n",
        "print(\"\\n# of True Positive Predictions (for each event type)\")\n",
        "print(TP_predictions)\n",
        "\n",
        "print(\"\\n# of True Negative Predictions\")\n",
        "print(TN_predictions)\n",
        "\n",
        "print(\"\\n# of False Positive Predictions\")\n",
        "print(FP_predictions)\n",
        "\n",
        "print(\"\\n# of False Negative Predictions\")\n",
        "print(FN_predictions)\n",
        "\n",
        "# prediction accuracy for each event type\n",
        "prediction_accuracy = [0] * 7 \n",
        "\n",
        "# The accuracy formula is: True Positive + True Negative / Total\n",
        "# Total = TP + TN + FP + FN\n",
        "# Thus, TP + TN / (TP + TN + FP + FN), is the accuracy for each event type\n",
        "\n",
        "# Calculate accuracy according to formula\n",
        "for i in range(7):\n",
        "  prediction_accuracy[i] = ((TP_predictions[i] + TN_predictions[i]) / (TP_predictions[i] + TN_predictions[i] + FP_predictions[i] + FN_predictions[i]))\n",
        "\n",
        "# Print accuracy per event type\n",
        "# Accuracy, calculated with True Positive + True Negative / Total, yields 85-100% accuracy overall for each event type\n",
        "print(\"\\nAccuracy per event type:\")\n",
        "print(prediction_accuracy)\n",
        "\n",
        "# Plot accuracies with respect to each event type\n",
        "y_pos = np.arange(len(event_columns))\n",
        "pyplot.bar(y_pos, prediction_accuracy);\n",
        "pyplot.xticks(y_pos, event_columns)\n",
        "pyplot.show()\n",
        "\n",
        "## Show prediction\n",
        "## ----------------------------\n",
        "print(\"\\nPrediction (2007 - 2015)\")\n",
        "print(\"Rain\\t\\t\" + str(predictedEvents[0]))\n",
        "print(\"Snow\\t\\t\" + str(predictedEvents[1]))\n",
        "print(\"Fog\\t\\t\" + str(predictedEvents[2]))\n",
        "print(\"Thunderstorm\\t\" + str(predictedEvents[3]))\n",
        "print(\"Hail\\t\\t\" + str(predictedEvents[4]))\n",
        "print(\"Tornado\\t\\t\" + str(predictedEvents[5]))\n",
        "print(\"NoEvent\\t\\t\" + str(predictedEvents[6]))\n",
        "## ----------------------------\n",
        "\n",
        "## Show Actual\n",
        "## ----------------------------\n",
        "print(\"\\nActual (2007 - 2015)\")\n",
        "print(y_test.sum())\n",
        "\n",
        "# --------------------\n",
        "# ----- Analysis -----\n",
        "# --------------------\n",
        "# For which weather event is your model actually useful?\n",
        "# ------------------------------------------------------\n",
        "# \n",
        "# This model, given weather attributes, is most useful for predicting common events.\n",
        "# This includes 'NoEvent' and 'Rain'.\n",
        "# Rare events are more difficult to predict, even with duplicated rare events.\n",
        "# This is due to the probability of common events being almost always vastly greater.\n",
        "# To partially remedy this, I allow any event with a threshold greater than 0.5 weighted \n",
        "# probability from the 'sigmoid' function to count as an occurrence.\n",
        "# All rare events are also duplicated.\n",
        "\n",
        "\n"
      ],
      "execution_count": 19,
      "outputs": [
        {
          "output_type": "stream",
          "text": [
            "\r2922/1 [============================================================================================================================================================================================================================================================================================================================================================================================================================================================================================================================================================================================================================================================================================================================================================================================================================================================================================================================================================================================================================================================================================================================================================================================================================================================================================================================================================================================================================================================================================================================================================================================================================================================================================================================================================================================================================================================================================================================================================================================================================================================================================================================================================================================================================================================================================================================================================================================================================================================================================================================================================================================================================================================================================================================================================================================================================================================================================================================================================================================================================================================================================================================================================================================================================================================================================================================================================================================================================================================================================================================================================================================================================================================================================================================================================================================================================================================================================================================================================================================================================================================================================================================================================================================================================================================================================================================================================================================================================================================================================================================================================================================================================================================================================================================================================================================================================================================================================================================================================================================================================================================================================================================================================================================================================================================================================================================================================================================================================================================================================================================================================================================================================================================================================================================================================================================================================================================================================================================================================================================================================================================================================================================================================================================================================================================================================================================================================================================================================================================================================================================================================================================================================================================================================================================================================================================================================================================================================================================================================================================================================================================================================================================================================================================================================================================================================================================================================================================================================================================================================================================================================================================================================================================================================================================================================================================================================================================================================================================================================================================================================================================================================================================================================================================================================================================================================================================================================================================================================================================================================================================================================================================================================================================================================================================================================================================================================================================================================================================================================================================================================================================================================================================================================================================================================================================================================================================================================================================================================================================================================================================================================================================================================================================================================================================================================================================================================================================================================================================================================================================================================================================================================================================================================================================================================================================================================================================================================================================================================================================================================================================================================================================================================================================================================================================================================================================================================================================================================================================================================================================================================================================================================================================================================================================================================================================================================================================================================================================================================================================================================================================================================================================================================================================================================================================================================================================================================================================================================================================================================================================================================================================================================================================================================================================================================================================================================================================================================================================================================================================================================================================================================================================================================================================================================================================================================================================================================================================================================================================================================================================================================================================================================================================================================================================================================================================================================================================================================================================================================================================================================================================================================================================================================================================================================================================================================================================================================================================================================================================================================================================================================================================================================================================================================================================================================================================================================================================================================================================================================================================================================================================================================================================================================================================================================================================================================================================================================================================================================================================================================================================================================================================================================================================================================================================================================================================================================================================================================================================================================================================================================================================================================================================================================================================================================================================================================================================================================================================================================================================================================================================================================================================================================================================================================================================================================================================================================================================================================================================================================================================================================================================================================================================================================================================================================================================================================================================================================================================================================================================================================================================================================================================================================================================================================================================================================================================================================================================================================================================================================================================================================================================================================================================================================================================================================================================================================================================================================================================================================================================================================================================================================================================================================================================================================================================================================================================================================================================================================================================================================================================================================================================================================================================================================================================================================================================================================================================================================================================================================================================================================================================================================================================================================================================================================================================================================================================================================================================================================================================================================================================================================================================================================================================================================================================================================================================================================================================================================================================================================================================================================================================================================================================================================================================================================================================================================================================================================================================================================================================================================================================================================================================================================================================================================================================================================================================================================================================================================================================================================================================================================================================================================================================================================================================================================================================================================================================================================================================================================================================================================================================================================================================================================================================================================================================================================================================================================================================================================================================================================================================================================================================================================================================================================================================================================================================================================================================================================================================================================================================================================================================================================================================================================================================================================================================================================================================================================================================================================================================================================================================================================================================================================================================================================================================================================================================================================================================================================================================================================================================================================================================================================================================================================================================================================================================================================================================================================================================================================================================================================================================================================================================================================================================================================================================================================================================================================================================================================================================================================================================================================================================================================================================================================================================================================================================================================================================================================================================================================================================================================================================================================================================================================================================================================================================================================================================================================================================================================================================================================================================================================================================================================================================================================================================================================================================================================================================================================================================================================================================================================================================================================================================================================================================================================================================================================================================================================================================================================================================================================================================================================================================================================================================================================================================================================================================================================================================================================================================================================================================================================================================================================================================================================================================================================================================================================================================================================================================================================================================================================================================================================================================================================================================================================================================================================================================================================================================================================================================================================================================================================================================================================================================================================================================================================================================================================================================================================================================================================================================================================================================================================================================================================================================================================================================================================================================================================================================================================================================================================================================================================================================================================================================================================================================================================================================================================================================================================================================================================================================================================================================================================================================================================================================================================================================================================================================================================================================================================================================================================================================================================================================================================================================================================================================================================================================================================================================================================================================================================================================================================================================================================================================================================================================================================================================================================================================================================================================================================================================================================================================================================================================================================================================================================================================================================================================================================================================================================================================================================================================================================================================================================================================================================================================================================================================================================================================================================================================================================================================================================================================================================================================================================================================================================================================================================================================================================================================================================================================================================================================================================================================================================================================================================================================================================================================================================================================================================================================================================================================================================================================================================================================================================================================================================================================================================================================================================================================================================================================================================================================================================================================================================================================================================================================================================================================================================================================================================================================================================================================================================================================================================================================================================================================================================================================================================================================================================================================================================================================================================================================================================================================================================================================================================================================================================================================================================================================================================================================================================================================================================================================================================================================================================================================================================================================================================================================================================================================================================================================================================================================================================================================================================================================================================================================================================================================================================================================================================================================================================================================================================================================================================================================================================================================================================================================================================================================================================================================================================================================================================================================================================================================================================================================================================================================================================================================================================================================================================================================================================================================================================================================================================================================================================================================================================================================================================================================================================================================================================================================================================================================================================================================================================================================================================================================================================================================================================================================================================================================================================================================================================================================================================================================================================================================================================================================================================================================================================================================================================================================================================================================================================================================================================================================================================================================================================================================================================================================================================================================================================================================================================================================================================================================================================================================================================================================================================================================================================================================================================================================================================================================================================================================================================================================================================================================================================================================================================================================================================================================================================================================================================================================================================================================================================================================================================================================================================================================================================================================================================================================================================================================================================================================================================================================================================================================================================================================================================================================================================================================================================================================================================================================================================================================================================================================================================================================================================================================================================================================================================================================================================================================================================================================================================================================================================================================================================================================================================================================================================================================================================================================================================================================================================================================================================================================================================================================================================================================================================================================================================================================================================================================================================================================================================================================================================================================================================================================================================================================================================================================================================================================================================================================================================================================================================================================================================================================================================================================================================================================================================================================================================================================================================================================================================================================================================================================================================================================================================================================================================================================================================================================================================================================================================================================================================================================================================================================================================================================================================================================================================================================================================================================================================================================================================================================================================================================================================================================================================================================================================================================================================================================================================================================================================================================================================================================================================================================================================================================================================================================================================================================================================================================================================================================================================================================================================================================================================================================================================================================================================================================================================================================================================================================================================================================================================================================================================================================================================================================================================================================================================================================================================================================================================================================================================================================================================================================================================================================================================================================================================================================================================================================================================================================================================================================================================================================================================================================================================================================================================================================================================================================================================================================================================================================================================================================================================================================================================================================================================================================================================================================================================================================================================================================================================================================================================================================================================================================================================================================================================================================================================================================================================================================================================================================================================================================================================================================================================================================================================================================================================================================================================================================================================================================================================================================================================================================================================================================================================================================================================================================================================================================================================================================================================================================================================================================================================================================================================================================================================================================================================================================================================================================================================================================================================================================================================================================================================================================================================================================================================================================================================================================================================================================================================================================================================================================================================================================================================================================================================================================================================================================================================================================================================================================================================================================================================================================================================================================================================================================================================================================================================================================================================================================================================================================================================================================================================================================================================================================================================================================================================================================================================================================================================================================================================================================================================================================================================================================================================================================================================================================================================================================================================================================================================================================================================================================================================================================================================================================================================================================================================================================================================================================================================================================================================================================================================================================================================================================================================================================================================================================================================================================================================================================================================================================================================================================================================================================================================================================================================================================================================================================================================================================================================================================================================================================================================================================================================================================================================================================================================================================================================================================================================================================================================================================================================================================================================================================================================================================================================================================================================================================================================================================================================================================================================================================================================================================================================================================================================================================================================================================================================================================================================================================================================================================================================================================================================================================================================================================================================================================================================================================================================================================================================================================================================================================================================================================================================================================================================================================================================================================================================================================================================================================================================================================================================================================================================================================================================================================================================================================================================================================================================================================================================================================================================================================================================================================================================================================================================================================================================================================================================================================================================================================================================================================================================================================================================================================================================================================================================================================================================================================================================================================================================================================================================================================================================================================================================================================================================================================================================================================================================================================================================================================================================================================================================================================================================================================================================================================================================================================================================================================================================================================================================================================================================================================================================================================================================================================================================================================================================================================================================================================================================================================================================================================================================================================================================================================================================================================================================================================================================================================================================================================================================================================================================================================================================================================================================================================================================================================================================================================================================================================================================================================================================================================================================================================================================================================================================================================================================================================================================================================================================================================================================================================================================================================================================================================================================================================================================================================================================================================================================================================================================================================================================================================================================================================================================================================================================================================================================================================================================================================================================================================================================================================================================================================================================================================================================================================================================================================================================================================================================================================================================================================================================================================================================================================================================================================================================================================================================================================================================================================================================================================================================================================================================================================================================================================================================================================================================================================================================================================================================================================================================================================================================================================================================================================================================================================================================================================================================================================================================================================================================================================================================================================================================================================================================================================================================================================================================================================================================================================================================================================================================================================================================================================================================================================================================================================================================================================================================================================================================================================================================================================================================================================================================================================================================================================================================================================================================================================================================================================================================================================================================================================================================================================================================================================================================================================================================================================================================================================================================================================================================================================================================================================================================================================================================================================================================================================================================================================================================================================================================================================================================================================================================================================================================================================================================================================================================================================================================================================================================================================================================================================================================================================================================================================================================================================================================================================================================================================================================================================================================================================================================================================================================================================================================================================================================================================================================================================================================================================================================================================================================================================================================================================================================================================================================================================================================================================================================================================================================================================================================================================================================================================================================================================================================================================================================================================================================================================================================================================================================================================================================================================================================================================================================================================================================================================================================================================================================================================================================================================================================================================================================================================================================================================================================================================================================================================================================================================================================================================================================================================================================================================================================================================================================================================================================================================================================================================================================================================================================================================================================================================================================================================================================================================================================================================================================================================================================================================================================================================================================================================================================================================================================================================================================================================================================================================================================================================================================================================================================================================================================================================================================================================================================================================================================================================================================================================================================================================================================================================================================================================================================================================================================================================================================================================================================================================================================================================================================================================================================================================================================================================================================================================================================================================================================================================================================================================================================================================================================================================================================================================================================================================================================================================================================================================================================================================================================================================================================================================================================================================================================================================================================================================================================================================================================================================================================================================================================================================================================================================================================================================================================================================================================================================================================================================================================================================================================================================================================================================================================================================================================================================================================================================================================================================================================================================================================================================================================================================================================================================================================================================================================================================================================================================================================================================================================================================================================================================================================================================================================================================================================================================================================================================================================================================================================================================================================================================================================================================================================================================================================================================================================================================================================================================================================================================================================================================================================================================================================================================================================================================================================================================================================================================================================================================================================================================================================================================================================================================================================================================================================================================================================================================================================================================================================================================================================================================================================================================================================================================================================================================================================================================================================================================================================================================================================================================================================================================================================================================================================================================================================================================================================================================================================================================================================================================================================================================================================================================================================================================================================================================================================================================================================================================================================================================================================================================================================================================================================================================================================================================================================================================================================================================================================================================================================================================================================================================================================================================================================================================================================================================================================================================================================================================================================================================================================================================================================================================================================================================================================================================================================================================================================================================================================================================================================================================================================================================================================================================================================================================================================================================================================================================================================================================================================================================================================================================================================================================================================================================================================================================================================================================================================================================================================================================================================================================================================================================================================================================================================================================================================================================================================================================================================================================================================================================================================================================================================================================================================================================================================================================================================================================================================================================================================================================================================================================================================================================================================================================================================================================================================================================================================================================================================================================================================================================================================================================================================================================================================================================================================================================================================================================================================================================================================================================================================================================================================================================================================================================================================================================================================================================================================================================================================================================================================================================================================================================================================================================================================================================================================================================================================================================================================================================================================================================================================================================================================================================================================================================================================================================================================================================================================================================================================================================================================================================================================================================================================================================================================================================================================================================================================================================================================================================================================================================================================================================================================================================================================================================================================================================================================================================================================================================================================================================================================================================================================================================================================================================================================================================================================================================================================================================================================================================================================================================================================================================================================================================================================================================================================================================================================================================================================================================================================================================================================================================================================================================================================================================================================================================================================================================================================================================================================================================================================================================================================================================================================================================================================================================================================================================================================================================================================================================================================================================================================================================================================================================================================================================================================================================================================================================================================================================================================================================================================================================================================================================================================================================================================================================================================================================================================================================================================================================================================================================================================================================================================================================================================================================================================================================================================================================================================================================================================================================================================================================================================================================================================================================================================================================================================================================================================================================================================================================================================================================================================================================================================================================================================================================================================================================================================================================================================================================================================================================================================================================================================================================================================================================================================================================================================================================================================================================================================================================================================================================================================================================================================================================================================================================================================================================================================================================================================================================================================================================================================================================================================================================================================================================================================================================================================================================================================================================================================================================================================================] - 0s 37us/sample - loss: 0.1965 - acc: 0.9361\n",
            "\n",
            "Overall Accuracy:\n",
            "0.9361006\n",
            "\n",
            "# of True Positive Predictions (for each event type)\n",
            "[512, 15, 88, 42, 0, 0, 1812]\n",
            "\n",
            "# of True Negative Predictions\n",
            "[1982, 2885, 2673, 2667, 2916, 2922, 633]\n",
            "\n",
            "# of False Positive Predictions\n",
            "[260, 7, 121, 142, 0, 0, 156]\n",
            "\n",
            "# of False Negative Predictions\n",
            "[168, 15, 40, 71, 6, 0, 321]\n",
            "\n",
            "Accuracy per event type:\n",
            "[0.8535249828884326, 0.9924709103353867, 0.9449007529089665, 0.9271047227926078, 0.997946611909651, 1.0, 0.8367556468172485]\n"
          ],
          "name": "stdout"
        },
        {
          "output_type": "display_data",
          "data": {
            "image/png": "[encoded data removed]",
            "text/plain": [
              "<Figure size 432x288 with 1 Axes>"
            ]
          },
          "metadata": {
            "tags": []
          }
        },
        {
          "output_type": "stream",
          "text": [
            "\n",
            "Prediction (2007 - 2015)\n",
            "Rain\t\t772\n",
            "Snow\t\t22\n",
            "Fog\t\t209\n",
            "Thunderstorm\t184\n",
            "Hail\t\t0\n",
            "Tornado\t\t0\n",
            "NoEvent\t\t1968\n",
            "\n",
            "Actual (2007 - 2015)\n",
            "Rain             680\n",
            "Snow              30\n",
            "Fog              128\n",
            "Thunderstorm     113\n",
            "Hail               6\n",
            "Tornado            0\n",
            "NoEvent         2133\n",
            "dtype: int64\n"
          ],
          "name": "stdout"
        }
      ]
    }
  ]
}